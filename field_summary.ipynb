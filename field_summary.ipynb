{
 "cells": [
  {
   "cell_type": "code",
   "execution_count": null,
   "metadata": {
    "collapsed": true
   },
   "outputs": [],
   "source": [
    "import json\n",
    "import os\n",
    "import pandas"
   ]
  },
  {
   "cell_type": "code",
   "execution_count": null,
   "outputs": [],
   "source": [
    "raw_data_dir = r'C:\\Users\\mhann\\projects\\adsb_raw'"
   ],
   "metadata": {
    "collapsed": false
   }
  },
  {
   "cell_type": "code",
   "execution_count": null,
   "outputs": [],
   "source": [
    "file_list = os.listdir(raw_data_dir)"
   ],
   "metadata": {
    "collapsed": false
   }
  },
  {
   "cell_type": "code",
   "execution_count": null,
   "outputs": [],
   "source": [
    "\n",
    "file_count = 0"
   ],
   "metadata": {
    "collapsed": false
   }
  },
  {
   "cell_type": "code",
   "execution_count": null,
   "outputs": [],
   "source": [
    "from collections import Counter\n",
    "c = Counter()"
   ],
   "metadata": {
    "collapsed": false
   }
  },
  {
   "cell_type": "code",
   "execution_count": null,
   "outputs": [],
   "source": [
    "count_by_t = {}\n",
    "category_by_t = {}"
   ],
   "metadata": {
    "collapsed": false
   }
  },
  {
   "cell_type": "code",
   "execution_count": null,
   "outputs": [],
   "source": [
    "for file_name in file_list:\n",
    "    file_path = os.path.join(raw_data_dir,file_name)\n",
    "    file_count +=1\n",
    "    if file_count %500 == 0:\n",
    "        print(f'{file_count}')\n",
    "\n",
    "\n",
    "    with open(file_path) as json_file:\n",
    "        try:\n",
    "            data = json.load(json_file)\n",
    "        except:\n",
    "            continue\n",
    "\n",
    "\n",
    "        if 'ac' not in data:\n",
    "            print(f'Malformed ac:{file_name}')\n",
    "            continue\n",
    "\n",
    "        for ac in data['ac']:\n",
    "            valid_keys = []\n",
    "            for key in ac:\n",
    "                if  len(str(ac[key]).strip()) > 0:\n",
    "                    valid_keys.append(key)\n",
    "            if 't' in ac:\n",
    "                t = ac['t']\n",
    "                if t not in count_by_t:\n",
    "                    count_by_t[t] = 0\n",
    "                    category_by_t[t] = []\n",
    "\n",
    "                if 'category' in ac:\n",
    "                    category_by_t[t].append(ac['category'])\n",
    "                count_by_t[t]+=1\n",
    "            c.update(valid_keys)\n",
    "\n"
   ],
   "metadata": {
    "collapsed": false
   }
  },
  {
   "cell_type": "code",
   "execution_count": null,
   "outputs": [],
   "source": [
    "c.most_common()\n"
   ],
   "metadata": {
    "collapsed": false
   }
  },
  {
   "cell_type": "code",
   "execution_count": null,
   "outputs": [],
   "source": [
    "for t in count_by_t:\n",
    "    cc = Counter()\n",
    "    cc.update(category_by_t[t])\n",
    "    try:\n",
    "        category = cc.most_common()[0][0]\n",
    "    except:\n",
    "        category = None\n",
    "    print(f'{t}\\t{count_by_t[t]}\\t{category}')"
   ],
   "metadata": {
    "collapsed": false
   }
  },
  {
   "cell_type": "code",
   "execution_count": null,
   "outputs": [],
   "source": [
    "for x in c:\n",
    "    print(f'{x}\\t{c[x]}')"
   ],
   "metadata": {
    "collapsed": false
   }
  },
  {
   "cell_type": "code",
   "execution_count": null,
   "outputs": [],
   "source": [],
   "metadata": {
    "collapsed": false
   }
  }
 ],
 "metadata": {
  "kernelspec": {
   "display_name": "Python 3",
   "language": "python",
   "name": "python3"
  },
  "language_info": {
   "codemirror_mode": {
    "name": "ipython",
    "version": 2
   },
   "file_extension": ".py",
   "mimetype": "text/x-python",
   "name": "python",
   "nbconvert_exporter": "python",
   "pygments_lexer": "ipython2",
   "version": "2.7.6"
  }
 },
 "nbformat": 4,
 "nbformat_minor": 0
}
